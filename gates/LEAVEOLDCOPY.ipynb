{
 "cells": [
  {
   "cell_type": "code",
   "execution_count": 1,
   "metadata": {},
   "outputs": [],
   "source": [
    "#imports \n",
    "import numpy as np \n",
    "import math as m\n",
    "import pandas as pd\n",
    "\n",
    "#Im inporting the code from the other files.\n",
    "#Scrolling and the choatic mess of having it in one file\n",
    "# drove me up a wall plus I was using that code in more than one file\n",
    "import gates as g\n",
    "import checking\n",
    "\n",
    "pi =np.pi "
   ]
  },
  {
   "cell_type": "markdown",
   "metadata": {},
   "source": [
    "\n",
    "\n",
    "The opperaton that works is as follows:\n",
    "\n",
    "\n",
    "$(\\hat{BS} \\otimes \\hat{Z})(\\hat{M} \\otimes -\\hat{I})(\\hat{W} \\otimes \\hat{W})(\\hat{BS} \\otimes \\hat{Z})(\\hat I \\otimes \\sqrt 2 \\hat P) \\ket{X,V}$"
   ]
  },
  {
   "cell_type": "code",
   "execution_count": 2,
   "metadata": {},
   "outputs": [],
   "source": [
    "def OpperateOri(theta_0,theta_1,steps):\n",
    "    #Opperators used \n",
    "    polarizer = np.kron(g.I,(np.sqrt(2))*g.P(-pi/4))\n",
    "    beamsplitter_one = np.kron(g.BS,g.Z)\n",
    "    WavePlate = g.W_4(theta_0,theta_1)\n",
    "    Mirror = np.kron(g.M,-g.Z)\n",
    "    beamsplitter_two = np.kron(g.BS,g.I)\n",
    "    input_ket = np.kron(g.ket_0,g.ket_V)\n",
    "    \n",
    "    #kets\n",
    "    ket_0 = np.matmul(polarizer,input_ket)\n",
    "    ket_1 =np.matmul(beamsplitter_one,ket_0)\n",
    "    ket_2 =np.matmul(WavePlate,ket_1)\n",
    "    ket_3 = np.matmul(Mirror,ket_2)\n",
    "    ket_4 = np.matmul(beamsplitter_two,ket_3)\n",
    "    \n",
    "    #print out when needed \n",
    "    if(steps is True):\n",
    "        print(\"Inital ket: \",input_ket)\n",
    "        print(\"Opperate polarizer\", polarizer,'\\n')\n",
    "        print(\"ket after polarizer: \",ket_0,'\\n')\n",
    "        print(\"Opperate beamsplitter\", beamsplitter_one,'\\n')\n",
    "        print(\"ket after beamsplitter: \",ket_1,'\\n')\n",
    "        print(\"Opperate waveplate\", WavePlate,'\\n')\n",
    "        print(\"ket after polarizer: \",ket_2,'\\n')\n",
    "        print(\"Opperate Mirror\", beamsplitter_one,'\\n')\n",
    "        print(\"ket after Mirror: \",ket_3,'\\n')\n",
    "        print(\"Opperate beamsplitter\", beamsplitter_two,'\\n')\n",
    "        print(\"ket result: \",ket_4,'\\n')\n",
    "           \n",
    "    return checking.output(ket_4) ,ket_4"
   ]
  },
  {
   "cell_type": "code",
   "execution_count": 3,
   "metadata": {},
   "outputs": [],
   "source": [
    "def Opperate(theta_0,theta_1,steps,ID_Beamsplitter = g.Z,ID_Mirror = -g.I):\n",
    "    #Opperators used \n",
    "    polarizer = np.kron(g.I,(np.sqrt(2))*g.P(-pi/4))\n",
    "    beamsplitter_one = np.kron(g.BS,ID_Beamsplitter)\n",
    "    WavePlate = g.W_4(theta_0,theta_1)\n",
    "    Mirror = np.kron(g.M,ID_Mirror)\n",
    "    beamsplitter_two = np.kron(g.BS,ID_Beamsplitter)\n",
    "    input_ket = np.kron(g.ket_0,g.ket_V)\n",
    "    \n",
    "    #kets\n",
    "    ket_0 = np.matmul(polarizer,input_ket)\n",
    "    ket_1 =np.matmul(beamsplitter_one,ket_0)\n",
    "    ket_2 =np.matmul(WavePlate,ket_1)\n",
    "    ket_3 = np.matmul(Mirror,ket_2)\n",
    "    ket_4 = np.matmul(beamsplitter_two,ket_3)\n",
    "    \n",
    "    #print out when needed \n",
    "    if(steps is True):\n",
    "        print(\"Inital ket: \",input_ket)\n",
    "        print(\"Opperate polarizer\", polarizer,'\\n')\n",
    "        print(\"ket after polarizer: \",ket_0,'\\n')\n",
    "        print(\"Opperate beamsplitter\", beamsplitter_one,'\\n')\n",
    "        print(\"ket after beamsplitter: \",ket_1,'\\n')\n",
    "        print(\"Opperate waveplate\", WavePlate,'\\n')\n",
    "        print(\"ket after polarizer: \",ket_2,'\\n')\n",
    "        print(\"Opperate Mirror\", beamsplitter_one,'\\n')\n",
    "        print(\"ket after Mirror: \",ket_3,'\\n')\n",
    "        print(\"Opperate beamsplitter\", beamsplitter_two,'\\n')\n",
    "        print(\"ket result: \",ket_4,'\\n')\n",
    "           \n",
    "    return checking.output(ket_4) ,ket_4"
   ]
  },
  {
   "cell_type": "markdown",
   "metadata": {},
   "source": [
    "Below runs through all possible waveplate configurations at $ 0,\\frac{\\pi}{2},\\pi$ the outputs should be the same for 0 and $\\pi$"
   ]
  },
  {
   "cell_type": "code",
   "execution_count": 4,
   "metadata": {},
   "outputs": [],
   "source": [
    "def allWaveplatesOri(printing = False):\n",
    "   thetas = [0,np.pi/2,np.pi]\n",
    "   values  =[]\n",
    "   for i in thetas:\n",
    "      for j in thetas:\n",
    "         function, vector  = OpperateOri(i,j,False)\n",
    "         values.append(vector)\n",
    "         if(printing):\n",
    "            print(\"theta One: \",i,\"theta Two: \", j)\n",
    "            print(function, vector,'\\n')\n",
    "   return values"
   ]
  },
  {
   "cell_type": "code",
   "execution_count": 5,
   "metadata": {},
   "outputs": [],
   "source": [
    "def allWaveplates(printing = False,ID_Beamsplitter = g.Z,ID_Mirror = -g.I):\n",
    "   thetas = [0,pi/2,pi]\n",
    "   values  =[]\n",
    "   for i in thetas:\n",
    "      for j in thetas:\n",
    "         function, vector  = Opperate(i,j,False,ID_Beamsplitter,ID_Mirror)\n",
    "         values.append(vector)\n",
    "         if(printing):\n",
    "            print(\"theta One: \",i,\"theta Two: \", j)\n",
    "            print(function, vector,'\\n')\n",
    "   return values\n"
   ]
  },
  {
   "cell_type": "code",
   "execution_count": 6,
   "metadata": {},
   "outputs": [
    {
     "ename": "NameError",
     "evalue": "name 'pi' is not defined",
     "output_type": "error",
     "traceback": [
      "\u001b[1;31m---------------------------------------------------------------------------\u001b[0m",
      "\u001b[1;31mNameError\u001b[0m                                 Traceback (most recent call last)",
      "Cell \u001b[1;32mIn[6], line 1\u001b[0m\n\u001b[1;32m----> 1\u001b[0m np\u001b[38;5;241m.\u001b[39marray_equal(\u001b[43mchecking\u001b[49m\u001b[38;5;241;43m.\u001b[39;49m\u001b[43mtargets\u001b[49m\u001b[43m(\u001b[49m\u001b[43m)\u001b[49m,allWaveplates())\n",
      "File \u001b[1;32mc:\\college\\Spring2024\\Quantum Computing\\QuantumDeutsch-Jozsa\\gates\\checking.py:33\u001b[0m, in \u001b[0;36mtargets\u001b[1;34m()\u001b[0m\n\u001b[0;32m     31\u001b[0m \u001b[38;5;28;01mfor\u001b[39;00m i \u001b[38;5;129;01min\u001b[39;00m thetas:\n\u001b[0;32m     32\u001b[0m   \u001b[38;5;28;01mfor\u001b[39;00m j \u001b[38;5;129;01min\u001b[39;00m thetas:\n\u001b[1;32m---> 33\u001b[0m     polarizer \u001b[38;5;241m=\u001b[39m np\u001b[38;5;241m.\u001b[39mkron(g\u001b[38;5;241m.\u001b[39mI,(np\u001b[38;5;241m.\u001b[39msqrt(\u001b[38;5;241m2\u001b[39m))\u001b[38;5;241m*\u001b[39mg\u001b[38;5;241m.\u001b[39mP(\u001b[38;5;241m-\u001b[39m\u001b[43mpi\u001b[49m\u001b[38;5;241m/\u001b[39m\u001b[38;5;241m4\u001b[39m))\n\u001b[0;32m     34\u001b[0m     beamsplitter_one \u001b[38;5;241m=\u001b[39m np\u001b[38;5;241m.\u001b[39mkron(g\u001b[38;5;241m.\u001b[39mBS,g\u001b[38;5;241m.\u001b[39mZ)\n\u001b[0;32m     35\u001b[0m     WavePlate \u001b[38;5;241m=\u001b[39m g\u001b[38;5;241m.\u001b[39mW_4(i,j)\n",
      "\u001b[1;31mNameError\u001b[0m: name 'pi' is not defined"
     ]
    }
   ],
   "source": [
    "np.array_equal(checking.targets(),allWaveplates())"
   ]
  },
  {
   "cell_type": "code",
   "execution_count": null,
   "metadata": {},
   "outputs": [
    {
     "data": {
      "text/plain": [
       "False"
      ]
     },
     "execution_count": 104,
     "metadata": {},
     "output_type": "execute_result"
    }
   ],
   "source": [
    "np.array_equal(allWaveplatesOri(),allWaveplates(False,g.I,-g.Z))"
   ]
  }
 ],
 "metadata": {
  "kernelspec": {
   "display_name": "optics_env_2024",
   "language": "python",
   "name": "python3"
  },
  "language_info": {
   "codemirror_mode": {
    "name": "ipython",
    "version": 3
   },
   "file_extension": ".py",
   "mimetype": "text/x-python",
   "name": "python",
   "nbconvert_exporter": "python",
   "pygments_lexer": "ipython3",
   "version": "3.12.1"
  }
 },
 "nbformat": 4,
 "nbformat_minor": 2
}

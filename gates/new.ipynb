{
 "cells": [
  {
   "cell_type": "code",
   "execution_count": 1,
   "metadata": {},
   "outputs": [],
   "source": [
    "#imports \n",
    "import numpy as np \n",
    "import math as m\n",
    "import pandas as pd\n",
    "\n",
    "#Im inporting the code from the other files.\n",
    "#Scrolling and the choatic mess of having it in one file\n",
    "# drove me up a wall plus I was using that code in more than one file\n",
    "import gates as g\n",
    "import checking\n",
    "\n",
    "pi =np.pi "
   ]
  },
  {
   "cell_type": "code",
   "execution_count": 2,
   "metadata": {},
   "outputs": [
    {
     "ename": "AttributeError",
     "evalue": "module 'gates' has no attribute 'W'",
     "output_type": "error",
     "traceback": [
      "\u001b[1;31m---------------------------------------------------------------------------\u001b[0m",
      "\u001b[1;31mAttributeError\u001b[0m                            Traceback (most recent call last)",
      "Cell \u001b[1;32mIn[2], line 1\u001b[0m\n\u001b[1;32m----> 1\u001b[0m \u001b[38;5;28mprint\u001b[39m(\u001b[43mg\u001b[49m\u001b[38;5;241;43m.\u001b[39;49m\u001b[43mW\u001b[49m(pi))\n",
      "\u001b[1;31mAttributeError\u001b[0m: module 'gates' has no attribute 'W'"
     ]
    }
   ],
   "source": [
    "print(g.W(pi))"
   ]
  }
 ],
 "metadata": {
  "kernelspec": {
   "display_name": "optics_env_2024",
   "language": "python",
   "name": "python3"
  },
  "language_info": {
   "codemirror_mode": {
    "name": "ipython",
    "version": 3
   },
   "file_extension": ".py",
   "mimetype": "text/x-python",
   "name": "python",
   "nbconvert_exporter": "python",
   "pygments_lexer": "ipython3",
   "version": "3.12.1"
  }
 },
 "nbformat": 4,
 "nbformat_minor": 2
}

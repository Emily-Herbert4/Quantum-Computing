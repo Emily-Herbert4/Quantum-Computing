{
 "cells": [
  {
   "cell_type": "code",
   "execution_count": 12,
   "metadata": {},
   "outputs": [],
   "source": [
    "#imports \n",
    "import numpy as np \n",
    "import math as m\n",
    "import pandas as pd\n",
    "\n",
    "#Im inporting the code from the other files.\n",
    "#Scrolling and the choatic mess of having it in one file\n",
    "# drove me up a wall plus I was using that code in more than one file\n",
    "import gates as g\n",
    "import checking\n",
    "\n",
    "pi =np.pi "
   ]
  },
  {
   "cell_type": "code",
   "execution_count": 13,
   "metadata": {},
   "outputs": [
    {
     "name": "stdout",
     "output_type": "stream",
     "text": [
      "[[1 0 0 0]\n",
      " [0 1 0 0]\n",
      " [0 0 0 1]\n",
      " [0 0 1 0]]\n"
     ]
    }
   ],
   "source": [
    "print(g.CNOT)"
   ]
  },
  {
   "cell_type": "code",
   "execution_count": 14,
   "metadata": {},
   "outputs": [
    {
     "name": "stdout",
     "output_type": "stream",
     "text": [
      "[[1.+0.j 0.+0.j 0.-1.j 0.+0.j]\n",
      " [0.+0.j 1.+0.j 0.+0.j 0.-1.j]\n",
      " [0.+0.j 0.-1.j 0.+0.j 1.+0.j]\n",
      " [0.-1.j 0.+0.j 1.+0.j 0.+0.j]]\n"
     ]
    }
   ],
   "source": [
    "gate = np.sqrt(2)*np.kron(g.BS,g.I)\n",
    "print(np.matmul(g.CNOT,np.transpose(gate)))"
   ]
  },
  {
   "cell_type": "code",
   "execution_count": 15,
   "metadata": {},
   "outputs": [
    {
     "name": "stdout",
     "output_type": "stream",
     "text": [
      "[[ 5 -2  4  0 -1  1]\n",
      " [-2  2 -1 -1  0  0]\n",
      " [ 4 -1  5 -1  0  0]\n",
      " [ 0 -1 -1  2  1 -1]\n",
      " [-1  0  0  1  3 -2]\n",
      " [ 1  0  0 -1 -2  2]]\n"
     ]
    }
   ],
   "source": [
    "mat = np.array([[-2,1,-2,0,0,0],[1,0,0,0,-1,1],[0,0,0,0,-1,0],[0,1,1,-1,0,0],[0,0,0,-1,-1,1]])\n",
    "#print(mat)\n",
    "mat_T =np.transpose(mat)\n",
    "#print(mat_T)\n",
    "print(np.matmul(mat_T,mat))"
   ]
  },
  {
   "cell_type": "code",
   "execution_count": 16,
   "metadata": {},
   "outputs": [
    {
     "name": "stdout",
     "output_type": "stream",
     "text": [
      "[0.        +0.70710678j 0.70710678+0.j        ]\n"
     ]
    }
   ],
   "source": [
    "print(np.matmul(g.BS,g.ket_H))"
   ]
  }
 ],
 "metadata": {
  "kernelspec": {
   "display_name": "optics_env_2024",
   "language": "python",
   "name": "python3"
  },
  "language_info": {
   "codemirror_mode": {
    "name": "ipython",
    "version": 3
   },
   "file_extension": ".py",
   "mimetype": "text/x-python",
   "name": "python",
   "nbconvert_exporter": "python",
   "pygments_lexer": "ipython3",
   "version": "3.12.1"
  }
 },
 "nbformat": 4,
 "nbformat_minor": 2
}

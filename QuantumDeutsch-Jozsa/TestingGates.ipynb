{
 "cells": [
  {
   "cell_type": "code",
   "execution_count": 56,
   "metadata": {},
   "outputs": [],
   "source": [
    "#imports \n",
    "import numpy as np \n",
    "import math as m\n",
    "import pandas as pd\n",
    "from gates import gates as g\n",
    "from gates import results as r\n",
    "\n",
    "pi =np.pi "
   ]
  },
  {
   "cell_type": "code",
   "execution_count": 58,
   "metadata": {},
   "outputs": [
    {
     "ename": "AttributeError",
     "evalue": "module 'gates.gates' has no attribute 'P_2'",
     "output_type": "error",
     "traceback": [
      "\u001b[1;31m---------------------------------------------------------------------------\u001b[0m",
      "\u001b[1;31mAttributeError\u001b[0m                            Traceback (most recent call last)",
      "Cell \u001b[1;32mIn[58], line 1\u001b[0m\n\u001b[1;32m----> 1\u001b[0m polarizer \u001b[38;5;241m=\u001b[39m np\u001b[38;5;241m.\u001b[39mkron(\u001b[43mg\u001b[49m\u001b[38;5;241;43m.\u001b[39;49m\u001b[43mP_2\u001b[49m(\u001b[38;5;241m-\u001b[39mpi\u001b[38;5;241m/\u001b[39m\u001b[38;5;241m4\u001b[39m),g\u001b[38;5;241m.\u001b[39mI)\n\u001b[0;32m      2\u001b[0m beamsplitter_one \u001b[38;5;241m=\u001b[39m np\u001b[38;5;241m.\u001b[39mkron(g\u001b[38;5;241m.\u001b[39mBS,g\u001b[38;5;241m.\u001b[39mI)\n\u001b[0;32m      3\u001b[0m WavePlate \u001b[38;5;241m=\u001b[39m g\u001b[38;5;241m.\u001b[39mW_4(\u001b[38;5;241m0\u001b[39m,pi\u001b[38;5;241m/\u001b[39m\u001b[38;5;241m2\u001b[39m)\n",
      "\u001b[1;31mAttributeError\u001b[0m: module 'gates.gates' has no attribute 'P_2'"
     ]
    }
   ],
   "source": [
    "polarizer = np.kron(g.P_2(-pi/4),g.I)\n",
    "beamsplitter_one = np.kron(g.BS,g.I)\n",
    "WavePlate = g.W_4(0,pi/2)\n",
    "Mirror = np.kron(g.I,g.M)\n",
    "beamsplitter_two = np.kron(g.BS,g.I)\n",
    "\n",
    "input_ket = np.kron(g.ket_0,g.ket_V)\n",
    "print(polarizer)\n",
    "ket_0 = np.matmul(polarizer,input_ket)\n",
    "print(ket_0)\n",
    "ket_1 =np.matmul(beamsplitter_one,ket_0)\n",
    "print(ket_1)\n",
    "ket_2 =np.matmul(WavePlate,ket_1)\n",
    "print(ket_2)\n",
    "ket_3 = np.matmul(Mirror,ket_2)\n",
    "print(ket_3)\n",
    "ket_4 = np.matmul(beamsplitter_two,ket_3)\n",
    "print(ket_4)\n",
    "print(r.check(ket_4))"
   ]
  },
  {
   "cell_type": "code",
   "execution_count": 36,
   "metadata": {},
   "outputs": [
    {
     "name": "stdout",
     "output_type": "stream",
     "text": [
      "[0.-0.5j 0.+0.5j 0.+0.j  0.+0.j ]\n"
     ]
    }
   ],
   "source": [
    "polarizer = np.kron(g.I,g.P(-pi/4))\n",
    "beamsplitter_one = np.kron(g.BS,g.I)\n",
    "WavePlate = g.W_4(pi/2,pi/2)\n",
    "Mirror = np.kron(g.I,g.M)\n",
    "beamsplitter_two = np.kron(g.BS,g.I)\n",
    "\n",
    "input_ket = np.kron(g.ket_0,g.ket_V)\n",
    "\n",
    "ket_0 = np.matmul(polarizer,input_ket)\n",
    "ket_1 =np.matmul(beamsplitter_one,ket_0)\n",
    "ket_2 = np.matmul(Mirror,ket_2)\n",
    "ket_3 =np.matmul(WavePlate,ket_2)\n",
    "ket_4 = np.matmul(beamsplitter_two,ket_3)\n",
    "print(ket_4)"
   ]
  }
 ],
 "metadata": {
  "kernelspec": {
   "display_name": "optics_env_2024",
   "language": "python",
   "name": "python3"
  },
  "language_info": {
   "codemirror_mode": {
    "name": "ipython",
    "version": 3
   },
   "file_extension": ".py",
   "mimetype": "text/x-python",
   "name": "python",
   "nbconvert_exporter": "python",
   "pygments_lexer": "ipython3",
   "version": "3.12.1"
  }
 },
 "nbformat": 4,
 "nbformat_minor": 2
}

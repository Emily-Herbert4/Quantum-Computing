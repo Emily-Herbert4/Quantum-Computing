{
 "cells": [
  {
   "cell_type": "code",
   "execution_count": 6,
   "metadata": {},
   "outputs": [],
   "source": [
    "#imports \n",
    "import numpy as np \n",
    "import math as m\n",
    "import pandas as pd\n",
    "from gates import gates as g\n",
    "from gates import results as r\n",
    "\n",
    "pi =np.pi "
   ]
  },
  {
   "cell_type": "code",
   "execution_count": 9,
   "metadata": {},
   "outputs": [
    {
     "name": "stdout",
     "output_type": "stream",
     "text": [
      "[0.+0.j  0.-0.5j 0.+0.j  0.-0.5j]\n"
     ]
    }
   ],
   "source": [
    "polarizer = np.kron(g.P(pi/4),g.I)\n",
    "beamsplitter_one = np.kron(g.BS,g.I)\n",
    "WavePlate = g.W_4(0,pi/2)\n",
    "Mirror = np.kron(g.M,g.I)\n",
    "beamsplitter_two = np.kron(g.BS,g.I)\n",
    "\n",
    "opperaton = np.matmul(polarizer,beamsplitter_one)\n",
    "opperaton = np.matmul(opperaton,WavePlate)\n",
    "opperaton = np.matmul(opperaton,Mirror)\n",
    "opperaton = np.matmul(opperaton,beamsplitter_two)\n",
    "\n",
    "input_ket = np.kron(g.ket_0,g.ket_V)\n",
    "print(np.matmul(opperaton,input_ket))"
   ]
  }
 ],
 "metadata": {
  "kernelspec": {
   "display_name": "optics_env_2024",
   "language": "python",
   "name": "python3"
  },
  "language_info": {
   "codemirror_mode": {
    "name": "ipython",
    "version": 3
   },
   "file_extension": ".py",
   "mimetype": "text/x-python",
   "name": "python",
   "nbconvert_exporter": "python",
   "pygments_lexer": "ipython3",
   "version": "3.12.1"
  }
 },
 "nbformat": 4,
 "nbformat_minor": 2
}

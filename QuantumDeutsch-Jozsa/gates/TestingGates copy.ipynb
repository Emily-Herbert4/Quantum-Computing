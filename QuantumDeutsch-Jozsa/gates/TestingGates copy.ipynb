{
 "cells": [
  {
   "cell_type": "code",
   "execution_count": 2,
   "metadata": {},
   "outputs": [],
   "source": [
    "#imports \n",
    "import numpy as np \n",
    "import math as m\n",
    "import pandas as pd\n",
    "\n",
    "#Im inporting the code from the other files.\n",
    "#Scrolling and the choatic mess of having it in one file\n",
    "# drove me up a wall plus I was using that code in more than one file\n",
    "import gates as g\n",
    "import checking\n",
    "\n",
    "pi =np.pi "
   ]
  },
  {
   "cell_type": "markdown",
   "metadata": {},
   "source": [
    "\n",
    "\n",
    "The opperaton that works is as follows:\n",
    "\n",
    "\n",
    "$(\\hat{BS} \\otimes \\hat{I})(\\hat{M} \\otimes -\\hat{I})(\\hat{W} \\otimes \\hat{W})(\\hat{BS} \\otimes \\hat{I})(\\hat I \\otimes \\sqrt 2 \\hat P) \\ket{X,V}$"
   ]
  },
  {
   "cell_type": "code",
   "execution_count": 3,
   "metadata": {},
   "outputs": [
    {
     "name": "stdout",
     "output_type": "stream",
     "text": [
      "[[ 0.5+0.j   0. -0.5j  0. -0.5j -0.5+0.j ]\n",
      " [ 0. -0.5j  0.5+0.j  -0.5+0.j   0. -0.5j]\n",
      " [ 0. -0.5j -0.5+0.j   0.5+0.j   0. -0.5j]\n",
      " [-0.5+0.j   0. -0.5j  0. -0.5j  0.5+0.j ]]\n"
     ]
    }
   ],
   "source": [
    "print(np.matmul(np.kron(g.BS,g.I),np.kron(g.I,g.BS)))"
   ]
  },
  {
   "cell_type": "code",
   "execution_count": 8,
   "metadata": {},
   "outputs": [
    {
     "name": "stdout",
     "output_type": "stream",
     "text": [
      "[[ 0.5 -0.5]\n",
      " [-0.5  0.5]]\n"
     ]
    }
   ],
   "source": [
    "print(g.P(np.pi/-4))"
   ]
  },
  {
   "cell_type": "markdown",
   "metadata": {},
   "source": [
    "might be off bc of that above\n"
   ]
  },
  {
   "cell_type": "code",
   "execution_count": null,
   "metadata": {},
   "outputs": [],
   "source": []
  },
  {
   "cell_type": "code",
   "execution_count": null,
   "metadata": {},
   "outputs": [],
   "source": [
    "def Opperate(theta_0,theta_1,steps,ID_Beamsplitter = g.Z,ID_Mirror = -g.I):\n",
    "    #Opperators used \n",
    "    polarizer = np.kron(g.I,(np.sqrt(2))*g.P(-pi/4))\n",
    "    beamsplitter_one = np.kron(g.BS,ID_Beamsplitter)\n",
    "    WavePlate = g.W_4(theta_0,theta_1)\n",
    "    Mirror = np.kron(g.M,ID_Mirror)\n",
    "    beamsplitter_two = np.kron(g.BS,ID_Beamsplitter)\n",
    "    input_ket = np.kron(g.ket_0,g.ket_V)\n",
    "    \n",
    "    #kets\n",
    "    ket_0 = np.matmul(polarizer,input_ket)\n",
    "    ket_1 =np.matmul(beamsplitter_one,ket_0)\n",
    "    ket_2 =np.matmul(WavePlate,ket_1)\n",
    "    ket_3 = np.matmul(Mirror,ket_2)\n",
    "    ket_4 = np.matmul(beamsplitter_two,ket_3)\n",
    "    \n",
    "    #print out when needed \n",
    "    if(steps is True):\n",
    "        print(\"Inital ket: \",input_ket)\n",
    "        print(\"Opperate polarizer\", polarizer,'\\n')\n",
    "        print(\"ket after polarizer: \",ket_0,'\\n')\n",
    "        print(\"Opperate beamsplitter\", beamsplitter_one,'\\n')\n",
    "        print(\"ket after beamsplitter: \",ket_1,'\\n')\n",
    "        print(\"Opperate waveplate\", WavePlate,'\\n')\n",
    "        print(\"ket after polarizer: \",ket_2,'\\n')\n",
    "        print(\"Opperate Mirror\", beamsplitter_one,'\\n')\n",
    "        print(\"ket after Mirror: \",ket_3,'\\n')\n",
    "        print(\"Opperate beamsplitter\", beamsplitter_two,'\\n')\n",
    "        print(\"ket result: \",ket_4,'\\n')\n",
    "           \n",
    "    return checking.output(ket_4) ,ket_4"
   ]
  },
  {
   "cell_type": "markdown",
   "metadata": {},
   "source": [
    "checking that order of mirror does or does not matter"
   ]
  },
  {
   "cell_type": "code",
   "execution_count": null,
   "metadata": {},
   "outputs": [],
   "source": [
    "def Opperate_MirrorChange(theta_0,theta_1,steps,ID_Beamsplitter = -g.I,ID_Mirror = g.I):\n",
    "    #Opperators used \n",
    "    polarizer = np.kron(g.I,(np.sqrt(2))*g.P(-pi/4))\n",
    "    beamsplitter_one = np.kron(g.BS,ID_Beamsplitter)\n",
    "    WavePlate = g.W_4(theta_0,theta_1)\n",
    "    Mirror = np.kron(g.M,ID_Mirror)\n",
    "    beamsplitter_two = np.kron(g.BS,ID_Beamsplitter)\n",
    "    input_ket = np.kron(g.ket_0,g.ket_V)\n",
    "    \n",
    "    #kets\n",
    "    ket_0 = np.matmul(polarizer,input_ket)\n",
    "    ket_1 =np.matmul(beamsplitter_one,ket_0)\n",
    "    ket_2 =np.matmul(Mirror,ket_1)\n",
    "    ket_3 = np.matmul(WavePlate,ket_2)\n",
    "    ket_4 = np.matmul(beamsplitter_two,ket_3)\n",
    "    \n",
    "    #print out when needed \n",
    "    if(steps is True):\n",
    "        print(\"Inital ket: \",input_ket)\n",
    "        print(\"Opperate polarizer\", polarizer,'\\n')\n",
    "        print(\"ket after polarizer: \",ket_0,'\\n')\n",
    "        print(\"Opperate beamsplitter\", beamsplitter_one,'\\n')\n",
    "        print(\"ket after beamsplitter: \",ket_1,'\\n')\n",
    "        print(\"Opperate waveplate\", WavePlate,'\\n')\n",
    "        print(\"ket after polarizer: \",ket_2,'\\n')\n",
    "        print(\"Opperate Mirror\", beamsplitter_one,'\\n')\n",
    "        print(\"ket after Mirror: \",ket_3,'\\n')\n",
    "        print(\"Opperate beamsplitter\", beamsplitter_two,'\\n')\n",
    "        print(\"ket result: \",ket_4,'\\n')\n",
    "           \n",
    "    return checking.output(ket_4) ,ket_4"
   ]
  },
  {
   "cell_type": "markdown",
   "metadata": {},
   "source": [
    "Below runs through all possible waveplate configurations at $ 0,\\frac{\\pi}{2},\\pi$ the outputs should be the same for 0 and $\\pi$"
   ]
  },
  {
   "cell_type": "code",
   "execution_count": null,
   "metadata": {},
   "outputs": [],
   "source": [
    "def allWaveplates(printing = False,ID_Beamsplitter = g.I,ID_Mirror = -g.I):\n",
    "   thetas = [0,pi/2,pi]\n",
    "   values  = []\n",
    "   for i in thetas:\n",
    "      for j in thetas:\n",
    "         function, vector  = Opperate(i,j,False,ID_Beamsplitter,ID_Mirror)\n",
    "         values.append(vector)\n",
    "         if(printing):\n",
    "            print(\"theta One: \",i,\"theta Two: \", j)\n",
    "            print(function, vector,'\\n')\n",
    "   \n",
    "   if(not printing):\n",
    "      return values\n",
    "\n",
    "def allWaveplates_MirrorChange(printing = False,ID_Beamsplitter = g.I,ID_Mirror = -g.I):\n",
    "   thetas = [0,pi/2,pi]\n",
    "   values  = []\n",
    "   for i in thetas:\n",
    "      for j in thetas:\n",
    "         function, vector  = Opperate_MirrorChange(i,j,False,ID_Beamsplitter,ID_Mirror)\n",
    "         values.append(vector)\n",
    "         if(printing):\n",
    "            print(\"theta One: \",i,\"theta Two: \", j)\n",
    "            print(function, vector,'\\n')\n",
    "   \n",
    "   if(not printing):\n",
    "      return values"
   ]
  },
  {
   "cell_type": "markdown",
   "metadata": {},
   "source": [
    "working opperator $(M \\otimes -I) = \\begin{pmatrix} 0 & 0 & -1 & 0 \\\\ 0 & 0 & 0 & -1 \\\\-1 & 0 & 0 & 0 \\\\0 & -1 & 0 &0 \\end{pmatrix}$"
   ]
  },
  {
   "cell_type": "code",
   "execution_count": null,
   "metadata": {},
   "outputs": [
    {
     "name": "stdout",
     "output_type": "stream",
     "text": [
      "True\n",
      "False\n"
     ]
    }
   ],
   "source": [
    "print(np.array_equal(checking.targets(),allWaveplates()))\n",
    "print(np.array_equal(checking.targets(),allWaveplates_MirrorChange()))\n",
    "#print(np.array_equal(checking.targets(),allWaveplates(False,g.Z,g.I)))\n",
    "#print(np.array_equal(checking.targets(),allWaveplates(False,g.Z,g.Z)))"
   ]
  },
  {
   "cell_type": "code",
   "execution_count": null,
   "metadata": {},
   "outputs": [
    {
     "name": "stdout",
     "output_type": "stream",
     "text": [
      "theta One:  0 theta Two:  0\n",
      "balance [-0.70710678+0.j  0.70710678+0.j  0.        +0.j  0.        +0.j] \n",
      "\n",
      "theta One:  0 theta Two:  1.5707963267948966\n",
      "constant [0.+0.j         0.+0.j         0.-0.70710678j 0.+0.70710678j] \n",
      "\n",
      "theta One:  0 theta Two:  3.141592653589793\n",
      "balance [-0.70710678+0.j  0.70710678+0.j  0.        +0.j  0.        +0.j] \n",
      "\n",
      "theta One:  1.5707963267948966 theta Two:  0\n",
      "constant [0.+0.j         0.+0.j         0.+0.70710678j 0.-0.70710678j] \n",
      "\n",
      "theta One:  1.5707963267948966 theta Two:  1.5707963267948966\n",
      "balance [ 0.70710678+0.j -0.70710678+0.j  0.        +0.j  0.        +0.j] \n",
      "\n",
      "theta One:  1.5707963267948966 theta Two:  3.141592653589793\n",
      "constant [0.+0.j         0.+0.j         0.+0.70710678j 0.-0.70710678j] \n",
      "\n",
      "theta One:  3.141592653589793 theta Two:  0\n",
      "balance [-0.70710678+0.j  0.70710678+0.j  0.        +0.j  0.        +0.j] \n",
      "\n",
      "theta One:  3.141592653589793 theta Two:  1.5707963267948966\n",
      "constant [0.+0.j         0.+0.j         0.-0.70710678j 0.+0.70710678j] \n",
      "\n",
      "theta One:  3.141592653589793 theta Two:  3.141592653589793\n",
      "balance [-0.70710678+0.j  0.70710678+0.j  0.        +0.j  0.        +0.j] \n",
      "\n"
     ]
    }
   ],
   "source": [
    "allWaveplates(True)"
   ]
  }
 ],
 "metadata": {
  "kernelspec": {
   "display_name": "optics_env_2024",
   "language": "python",
   "name": "python3"
  },
  "language_info": {
   "codemirror_mode": {
    "name": "ipython",
    "version": 3
   },
   "file_extension": ".py",
   "mimetype": "text/x-python",
   "name": "python",
   "nbconvert_exporter": "python",
   "pygments_lexer": "ipython3",
   "version": "3.12.1"
  }
 },
 "nbformat": 4,
 "nbformat_minor": 2
}

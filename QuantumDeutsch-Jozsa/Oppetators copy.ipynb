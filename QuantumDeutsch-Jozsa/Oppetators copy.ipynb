{
 "cells": [
  {
   "cell_type": "code",
   "execution_count": 8,
   "metadata": {},
   "outputs": [],
   "source": [
    "#imports \n",
    "import numpy as np \n",
    "import math as m\n",
    "import pandas as pd\n",
    "\n",
    "pi =np.pi \n"
   ]
  },
  {
   "cell_type": "code",
   "execution_count": 9,
   "metadata": {},
   "outputs": [],
   "source": [
    "H = (1/m.sqrt(2))*np.array([[1,1],[1,-1]])\n",
    "I = np.array([[1,0],[0,1]])\n",
    "\n",
    "def W_4 (theta_0,theta_1):\n",
    "    w_0 =np.sin(2*theta_0)\n",
    "    w_1 =np.sin(2*theta_1)\n",
    "    #This accounts for rounding errors\n",
    "    if (w_0<10**-15):\n",
    "        w_0 = 0\n",
    "    if (w_1<10**-15):\n",
    "        w_1 = 0\n",
    "    w = np.array([[w_0, np.cos(2*theta_0),0,0],\n",
    "                  [np.cos(2*theta_0),-w_0,0,0],\n",
    "                  [0,0,w_1, np.cos(2*theta_1)],\n",
    "                  [0,0,np.cos(2*theta_1),-w_1]])\n",
    "    return w\n",
    "\n",
    "M = np.array([[0,1],[1,0]])\n",
    "BS = (1/m.sqrt(2))*np.array([[1,1j],[1j,1]])\n",
    "\n",
    "CNOT = np.array([[1,0,0,0],[0,1,0,0],[0,0,0,1],[0,0,1,0]])\n"
   ]
  },
  {
   "cell_type": "code",
   "execution_count": 10,
   "metadata": {},
   "outputs": [],
   "source": [
    "#gives every possible combonation\n",
    "from itertools import product\n",
    "def guesses(dim):\n",
    "   guesses =[np.reshape(np.array(i), (dim, dim)) for i in product([-1,0, 1], repeat = dim*dim)]\n",
    "   return guesses\n",
    "g  = guesses(4)"
   ]
  },
  {
   "cell_type": "code",
   "execution_count": null,
   "metadata": {},
   "outputs": [
    {
     "data": {
      "text/plain": [
       "array([[1, 0, 0, 0],\n",
       "       [0, 1, 0, 0],\n",
       "       [0, 0, 1, 0],\n",
       "       [0, 0, 0, 1]])"
      ]
     },
     "execution_count": 4,
     "metadata": {},
     "output_type": "execute_result"
    }
   ],
   "source": [
    "CNOT.dot(CNOT)"
   ]
  },
  {
   "cell_type": "code",
   "execution_count": null,
   "metadata": {},
   "outputs": [],
   "source": [
    "#trying the matrix guess and returning results for every possible waveplate combonation\n",
    "angle = [0,pi/2,pi]\n",
    "\n",
    "def WavePlate_guess(guess):\n",
    "    M_tests = np.array[8]\n",
    "    for theta_0 in angle:\n",
    "        for theta_1 in angle:\n",
    "            M_tests.append(guess.dot(W_4(theta_0,theta_1)))\n",
    "    return M_tests"
   ]
  },
  {
   "cell_type": "code",
   "execution_count": null,
   "metadata": {},
   "outputs": [],
   "source": [
    "#Targets\n",
    "WavePlate_guess(CNOT)\n",
    "targets = np.array([[1,0,0,0],[0,-1,0,0],[0,0,1,0],[0,0,0,-1]])\n"
   ]
  },
  {
   "cell_type": "code",
   "execution_count": null,
   "metadata": {},
   "outputs": [],
   "source": []
  },
  {
   "cell_type": "code",
   "execution_count": null,
   "metadata": {},
   "outputs": [
    {
     "ename": "TypeError",
     "evalue": "'builtin_function_or_method' object is not subscriptable",
     "output_type": "error",
     "traceback": [
      "\u001b[1;31m---------------------------------------------------------------------------\u001b[0m",
      "\u001b[1;31mTypeError\u001b[0m                                 Traceback (most recent call last)",
      "Cell \u001b[1;32mIn[7], line 5\u001b[0m\n\u001b[0;32m      3\u001b[0m        \u001b[38;5;28;01mif\u001b[39;00m(guess\u001b[38;5;241m==\u001b[39mtarget)\u001b[38;5;241m.\u001b[39mall():\n\u001b[0;32m      4\u001b[0m             \u001b[38;5;28;01mreturn\u001b[39;00m guess\n\u001b[1;32m----> 5\u001b[0m w \u001b[38;5;241m=\u001b[39m\u001b[43mWavePlate_guess\u001b[49m\u001b[43m(\u001b[49m\u001b[43mg\u001b[49m\u001b[43m)\u001b[49m    \n\u001b[0;32m      6\u001b[0m finding_opperator(w,targets)    \n",
      "Cell \u001b[1;32mIn[5], line 5\u001b[0m, in \u001b[0;36mWavePlate_guess\u001b[1;34m(guess)\u001b[0m\n\u001b[0;32m      4\u001b[0m \u001b[38;5;28;01mdef\u001b[39;00m \u001b[38;5;21mWavePlate_guess\u001b[39m(guess):\n\u001b[1;32m----> 5\u001b[0m     M_tests \u001b[38;5;241m=\u001b[39m \u001b[43mnp\u001b[49m\u001b[38;5;241;43m.\u001b[39;49m\u001b[43marray\u001b[49m\u001b[43m[\u001b[49m\u001b[38;5;241;43m8\u001b[39;49m\u001b[43m]\u001b[49m\n\u001b[0;32m      6\u001b[0m     \u001b[38;5;28;01mfor\u001b[39;00m theta_0 \u001b[38;5;129;01min\u001b[39;00m angle:\n\u001b[0;32m      7\u001b[0m         \u001b[38;5;28;01mfor\u001b[39;00m theta_1 \u001b[38;5;129;01min\u001b[39;00m angle:\n",
      "\u001b[1;31mTypeError\u001b[0m: 'builtin_function_or_method' object is not subscriptable"
     ]
    }
   ],
   "source": [
    "def finding_opperator(guesses,target):\n",
    "    for guess in guesses:\n",
    "       if(guess==target).all():\n",
    "            return guess\n",
    "w =WavePlate_guess(g)    \n",
    "finding_opperator(w,targets)    "
   ]
  },
  {
   "cell_type": "markdown",
   "metadata": {},
   "source": [
    "we only apply the Beam splitter to the polarization"
   ]
  },
  {
   "cell_type": "code",
   "execution_count": null,
   "metadata": {},
   "outputs": [],
   "source": [
    "#phi_3 = np.matmul(I_otimes_BS,phi_2)\n",
    "#phi_3"
   ]
  }
 ],
 "metadata": {
  "kernelspec": {
   "display_name": "optics_env_2024",
   "language": "python",
   "name": "python3"
  },
  "language_info": {
   "codemirror_mode": {
    "name": "ipython",
    "version": 3
   },
   "file_extension": ".py",
   "mimetype": "text/x-python",
   "name": "python",
   "nbconvert_exporter": "python",
   "pygments_lexer": "ipython3",
   "version": "3.12.1"
  }
 },
 "nbformat": 4,
 "nbformat_minor": 2
}

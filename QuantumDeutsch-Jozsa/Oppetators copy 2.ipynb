{
 "cells": [
  {
   "cell_type": "code",
   "execution_count": 3,
   "metadata": {},
   "outputs": [],
   "source": [
    "#imports \n",
    "import numpy as np \n",
    "import math as m\n",
    "import pandas as pd\n",
    "import gates as g\n",
    "\n",
    "pi =np.pi \n"
   ]
  },
  {
   "cell_type": "code",
   "execution_count": 4,
   "metadata": {},
   "outputs": [
    {
     "ename": "AttributeError",
     "evalue": "module 'gates' has no attribute 'CNOT'",
     "output_type": "error",
     "traceback": [
      "\u001b[1;31m---------------------------------------------------------------------------\u001b[0m",
      "\u001b[1;31mAttributeError\u001b[0m                            Traceback (most recent call last)",
      "Cell \u001b[1;32mIn[4], line 1\u001b[0m\n\u001b[1;32m----> 1\u001b[0m \u001b[43mg\u001b[49m\u001b[38;5;241;43m.\u001b[39;49m\u001b[43mCNOT\u001b[49m\n",
      "\u001b[1;31mAttributeError\u001b[0m: module 'gates' has no attribute 'CNOT'"
     ]
    }
   ],
   "source": [
    "g.CNOT"
   ]
  },
  {
   "cell_type": "markdown",
   "metadata": {},
   "source": [
    "Opperators defined\n",
    "\n",
    "Hadamard  $\\hat{H} = \\frac{1}{\\sqrt{2}}\\begin{pmatrix} 1 &1 \\\\ 1 & -1\\end{pmatrix}$ there exists two different Hadmard gates in our optical set up. For polariztion it is the polarizer and for the path it is the beamcube\n",
    "Beamcube $\\hat{BS} = \\frac{1}{\\sqrt{2}}\\begin{pmatrix} 1 &i \\\\ i & 1\\end{pmatrix}$ Polarizer $\\hat{P} = \\begin{pmatrix} cos^2 \\theta & cos \\theta sin \\theta \\\\\n",
    "cos \\theta sin \\theta & sin^2 \\theta \\end{pmatrix}$\n",
    "\n",
    "Identity $\\hat{I} = \\begin{pmatrix} 1 & 0 \\\\ 0 & 1 \\end{pmatrix}$ \n",
    "Half Waveplate $\\hat W = \\begin{pmatrix} cos 2 \\theta & sin2 \\theta \\\\ sin 2 \\theta & -cos 2 \\theta  \\end{pmatrix}$ \n",
    "\n"
   ]
  },
  {
   "cell_type": "code",
   "execution_count": null,
   "metadata": {},
   "outputs": [],
   "source": [
    "\n",
    "I = np.array([[1,0],[0,1]])\n",
    "\n",
    "def W_4 (theta_0,theta_1):\n",
    "    error = 10**-10\n",
    "    w_0 =np.sin(2*theta_0)\n",
    "    w_1 = np.sin(2*theta_1)\n",
    "    #This accounts for rounding errors\n",
    "    if (w_0<error):\n",
    "        w_0 = 0\n",
    "    if (w_1<error):\n",
    "        w_1 = 0\n",
    "    cos_0=np.cos(2*theta_0)\n",
    "    cos_1=np.cos(2*theta_1)\n",
    "    if (cos_0<error):\n",
    "        cos_0 = 0\n",
    "    if (cos_1<error):\n",
    "        cos_1 = 0\n",
    "    w = np.array([[w_0, cos_0,0,0],\n",
    "                  [cos_0,-w_0,0,0],\n",
    "                  [0,0,w_1,cos_1],\n",
    "                  [0,0,cos_1 ,-w_1]])\n",
    "    return w\n",
    "\n",
    "def W_2 (theta_0):\n",
    "    w_0 =np.sin(theta_0)\n",
    "    w_1 =np.cos(theta_0)\n",
    "    #This accounts for rounding errors\n",
    "    if (w_0<10**-15):\n",
    "        w_0 = 0\n",
    "    w = np.array([[2*w_1,2*w_0],[2*w_0,2*w_1]])\n",
    "    return w\n",
    "\n",
    "def P(theta):\n",
    "    sin = np.sin(theta)\n",
    "    cos = np.cos(theta)\n",
    "    if (sin<10**-15):\n",
    "        sin = 0\n",
    "    if (cos<10**-15):\n",
    "        cos = 0\n",
    "    \n",
    "    P = np.array([[cos**2 , cos*sin],[cos*sin, sin**2]])\n",
    "    return P\n",
    "\n",
    "BS = (1/m.sqrt(2))*np.array([[1,-1j],[-1j,1]])\n"
   ]
  },
  {
   "cell_type": "markdown",
   "metadata": {},
   "source": [
    "Pauli matrices\n",
    "\n",
    "The Pauli X gate is the mirror opperator $\\sigma_X = \\begin{pmatrix} 0 & 1 \\\\ 1 & 0 \\end{pmatrix}$\n",
    "\n",
    "Pauli Y  $ \\sigma_Y = \\begin{pmatrix} 0 & -i \\\\ i & 0 \\end{pmatrix}$\n",
    "\n",
    "Pauli Z $ \\sigma_Z = \\begin{pmatrix} 1 & 0 \\\\ 0 & -1 \\end{pmatrix}$"
   ]
  },
  {
   "cell_type": "code",
   "execution_count": null,
   "metadata": {},
   "outputs": [],
   "source": [
    "\n"
   ]
  },
  {
   "cell_type": "code",
   "execution_count": null,
   "metadata": {},
   "outputs": [],
   "source": [
    "def M_theta(theta):\n",
    "    sin = np.sin(theta)\n",
    "    cos = np.cos(theta)\n",
    "    if (sin<10**-10):\n",
    "        sin = 0\n",
    "    if (cos<10**-10):\n",
    "        cos = 0\n",
    "    \n",
    "    P = np.array([[cos, -sin],[sin, cos]])\n",
    "    return P"
   ]
  },
  {
   "cell_type": "code",
   "execution_count": null,
   "metadata": {},
   "outputs": [],
   "source": [
    "ket_0_T = np.array([1,0])\n",
    "ket_1_T = np.array([0,1])\n",
    "\n",
    "ket_01_T =np.kron(ket_0_T,ket_1_T)\n",
    "\n",
    "ket_intial_T = (-1/np.sqrt(2))*np.array([1,-1,0,0])\n"
   ]
  },
  {
   "cell_type": "markdown",
   "metadata": {},
   "source": [
    "Incomming beam is in the x direction in out set up and set in the vertal polariztion \n",
    "\n",
    "$\\ket{x,V} = \\begin{pmatrix} 1 \\\\ 0 \\end{pmatrix} \\otimes \\begin{pmatrix} 0 \\\\ 1 \\end{pmatrix}$"
   ]
  },
  {
   "cell_type": "markdown",
   "metadata": {},
   "source": [
    "Incomming photon after Crystal (parametric down conversion) \n",
    "$\\ket{\\phi_x } $ \n",
    "\n",
    "Going though the pololarizer \n",
    "$\\hat P\\ket{\\phi_x} \\rightarrow \\frac{-1}{ \\sqrt{2}} (\\ket{H} -\\ket{V})$\n",
    "\n",
    "Applying $\\hat I \\otimes \\hat P$ as we are not changing the path but the polarization"
   ]
  },
  {
   "cell_type": "code",
   "execution_count": null,
   "metadata": {},
   "outputs": [],
   "source": [
    "ket_v = ket_1_T\n",
    "theta_k = -pi/4\n",
    "ket_theta= np.array([np.cos(theta_k),np.sin(theta_k)])\n",
    "p = np.outer(ket_theta,ket_theta)\n",
    "\n",
    "ket_p = np.matmul(p,ket_v)\n",
    "\n",
    "ket_p = np.kron(ket_0_T,ket_p)"
   ]
  },
  {
   "cell_type": "code",
   "execution_count": null,
   "metadata": {},
   "outputs": [
    {
     "name": "stdout",
     "output_type": "stream",
     "text": [
      "[[ 1.  0.  0.  0.]\n",
      " [ 0. -1.  0.  0.]\n",
      " [ 0.  0.  0.  1.]\n",
      " [ 0.  0.  1.  0.]]\n"
     ]
    }
   ],
   "source": [
    "M_one =np.array([[1,-1,],[1,1]])\n",
    "M_two = np.array([[0,1j],[-1j,0]])\n",
    "Bs_idea = np.kron(M_one,M_two)\n",
    "#print(np.matmul(W_4(0,pi/4),np.kron(Z,M)))\n",
    "print(W_4(pi/4,0))\n",
    "\n"
   ]
  },
  {
   "cell_type": "code",
   "execution_count": null,
   "metadata": {},
   "outputs": [],
   "source": [
    "def check(answer):\n",
    "    if()    "
   ]
  },
  {
   "cell_type": "code",
   "execution_count": null,
   "metadata": {},
   "outputs": [
    {
     "name": "stdout",
     "output_type": "stream",
     "text": [
      "After  beam cube:  [-0.35355339+0.j         -0.35355339+0.j          0.        +0.35355339j\n",
      "  0.        +0.35355339j] \n",
      "\n",
      "After Mirror One:  [-0.35355339+0.j         -0.35355339+0.j          0.        +0.35355339j\n",
      "  0.        +0.35355339j] \n",
      "\n",
      "After waveplate:  [-0.35355339+0.j         -0.35355339+0.j          0.        +0.35355339j\n",
      "  0.        -0.35355339j] \n",
      "\n",
      "After Mirror two:  [-0.35355339+0.j         -0.35355339+0.j          0.        +0.35355339j\n",
      "  0.        -0.35355339j] \n",
      "\n",
      "After Bs:  [0. +0.j  0.5+0.j  0. +0.5j 0. +0.j ] \n",
      "\n"
     ]
    }
   ],
   "source": [
    "ket_a = np.matmul(np.kron(BS,Z),ket_p)\n",
    "#print(np.kron(BS,I))\n",
    "print(\"After  beam cube: \",ket_a, '\\n')\n",
    "ket_b = np.matmul(np.kron(I,I),ket_a)\n",
    "print(\"After Mirror One: \",ket_b,'\\n')\n",
    "ket_c = np.matmul(W_4(0,pi/4),ket_b)\n",
    "print(\"After waveplate: \", ket_c,'\\n')\n",
    "ket_d = np.matmul(np.kron(I,I),ket_c)\n",
    "print(\"After Mirror two: \", ket_d,'\\n')\n",
    "ket_e = np.matmul(np.kron(BS,Z),ket_d)\n",
    "print(\"After Bs: \", ket_e,'\\n')\n",
    "#M_theta(pi/4)\n"
   ]
  },
  {
   "cell_type": "markdown",
   "metadata": {},
   "source": [
    "Beamsplitter - creates our second Qubit which is path dependent and also opperates \n",
    "We get \n",
    "\n",
    "$\\ket{ \\phi_0} = \\frac{-1}{2}(\\ket{a}+ i\\ket{b})_x \\otimes ( \\ket{H} -\\ket{V})_y$"
   ]
  },
  {
   "cell_type": "code",
   "execution_count": null,
   "metadata": {},
   "outputs": [],
   "source": [
    "phi_0_path = -0.5*(ket_0_T + 1j*ket_1_T)\n",
    "phi_0_polar =(ket_0_T - ket_1_T)\n",
    "phi_0 = np.kron(phi_0_path,phi_0_polar)"
   ]
  },
  {
   "cell_type": "code",
   "execution_count": null,
   "metadata": {},
   "outputs": [],
   "source": [
    "#trying the matrix guess and returning results for every possible waveplate combonation\n",
    "def WavePlate_guess(guess):\n",
    "    theta_0 = 2*pi\n",
    "    theta_1 = pi/2\n",
    "    angle = [0,pi/2,pi]\n",
    "    M_tests = []\n",
    "    for theta_0 in angle:\n",
    "        for theta_1 in angle:\n",
    "            M_tests.append({\"theta_0\":pi_text(theta_0) ,\"theta_1\": pi_text(theta_1), \n",
    "                            \"matrix_GW\": np.matmul(guess,W_4(theta_0,theta_1))}) \n",
    "                            #\"matrix_WG\" :np.matmul(W_4(theta_0,theta_1),guess)}\n",
    "    return pd.DataFrame(M_tests) \n",
    "#WavePlate_guess(CNOT).iloc[:,3]\n"
   ]
  },
  {
   "cell_type": "code",
   "execution_count": null,
   "metadata": {},
   "outputs": [],
   "source": [
    "#Targets\n",
    "\n",
    "targets = np.array([[1,0,0,0],[0,-1,0,0],[0,0,1,0],[0,0,0,-1]])\n"
   ]
  },
  {
   "cell_type": "markdown",
   "metadata": {},
   "source": [
    "we only apply the Beam splitter to the polarization"
   ]
  },
  {
   "cell_type": "code",
   "execution_count": null,
   "metadata": {},
   "outputs": [],
   "source": [
    "#phi_3 = np.matmul(I_otimes_BS,phi_2)\n",
    "#phi_3"
   ]
  }
 ],
 "metadata": {
  "kernelspec": {
   "display_name": "optics_env_2024",
   "language": "python",
   "name": "python3"
  },
  "language_info": {
   "codemirror_mode": {
    "name": "ipython",
    "version": 3
   },
   "file_extension": ".py",
   "mimetype": "text/x-python",
   "name": "python",
   "nbconvert_exporter": "python",
   "pygments_lexer": "ipython3",
   "version": "3.12.1"
  }
 },
 "nbformat": 4,
 "nbformat_minor": 2
}

{
 "cells": [
  {
   "cell_type": "code",
   "execution_count": 2,
   "metadata": {},
   "outputs": [],
   "source": [
    "#imports \n",
    "import numpy as np \n",
    "import math as m\n",
    "import pandas as pd\n",
    "\n",
    "pi =np.pi \n"
   ]
  },
  {
   "cell_type": "markdown",
   "metadata": {},
   "source": [
    "Opperators defined\n",
    "\n",
    "Hadamard  $\\hat{H} = \\frac{1}{\\sqrt{2}}\\begin{pmatrix} 1 &1 \\\\ 1 & -1\\end{pmatrix}$ there exists two different Hadmard gates in our optical set up. For polariztion it is the polarizer and for the path it is the beamcube\n",
    "Beamcube $\\hat{BS} = \\frac{1}{\\sqrt{2}}\\begin{pmatrix} 1 &i \\\\ i & 1\\end{pmatrix}$ Polarizer $\\hat{P} = \\begin{pmatrix} cos^2 \\theta & cos \\theta sin \\theta \\\\\n",
    "cos \\theta sin \\theta & sin^2 \\theta \\end{pmatrix}$\n",
    "\n",
    "Identity $\\hat{I} = \\begin{pmatrix} 1 & 0 \\\\ 0 & 1 \\end{pmatrix}$ \n",
    "Half Waveplate $\\hat W = \\begin{pmatrix} cos 2 \\theta & sin2 \\theta \\\\ sin 2 \\theta & -cos 2 \\theta  \\end{pmatrix}$ \n",
    "\n"
   ]
  },
  {
   "cell_type": "code",
   "execution_count": 26,
   "metadata": {},
   "outputs": [],
   "source": [
    "H = (1/m.sqrt(2))*np.array([[1,1],[1,-1]])\n",
    "I = np.array([[1,0],[0,1]])\n",
    "\n",
    "def W_4 (theta_0,theta_1):\n",
    "    w_0 =np.sin(2*theta_0)\n",
    "    w_1 =np.sin(2*theta_1)\n",
    "    #This accounts for rounding errors\n",
    "    if (w_0<10**-15):\n",
    "        w_0 = 0\n",
    "    if (w_1<10**-15):\n",
    "        w_1 = 0\n",
    "    w = np.array([[w_0, np.cos(2*theta_0),0,0],\n",
    "                  [np.cos(2*theta_0),-w_0,0,0],\n",
    "                  [0,0,w_1, np.cos(2*theta_1)],\n",
    "                  [0,0,np.cos(2*theta_1),-w_1]])\n",
    "    return w\n",
    "\n",
    "def P(theta):\n",
    "    sin = np.sin(theta)\n",
    "    cos = np.cos(theta)\n",
    "    if (sin<10**-5):\n",
    "        sin = 0\n",
    "    if (cos<10**-5):\n",
    "        cos = 0\n",
    "    \n",
    "    P = np.array([[cos**2 , cos*sin],[cos*sin, sin**2]])\n",
    "    return P\n",
    "\n",
    "BS = (1/m.sqrt(2))*np.array([[1,1j],[1j,1]])\n",
    "CNOT = np.array([[1,0,0,0],[0,1,0,0],[0,0,0,1],[0,0,1,0]])"
   ]
  },
  {
   "cell_type": "markdown",
   "metadata": {},
   "source": [
    "Pauli matrices\n",
    "\n",
    "The Pauli X gate is the mirror opperator $\\sigma_X = \\begin{pmatrix} 0 & 1 \\\\ 1 & 0 \\end{pmatrix}$\n",
    "\n",
    "Pauli Y  $ \\sigma_Y = \\begin{pmatrix} 0 & -i \\\\ i & 0 \\end{pmatrix}$\n",
    "\n",
    "Pauli Z $ \\sigma_Z = \\begin{pmatrix} 1 & 0 \\\\ 0 & -1 \\end{pmatrix}$"
   ]
  },
  {
   "cell_type": "code",
   "execution_count": 5,
   "metadata": {},
   "outputs": [],
   "source": [
    "M = np.array([[0,1],[1,0]])\n",
    "Y = np.array([[0, -1j],[1j,0]])\n",
    "Z = np.array([[1,0],[0,-1]])\n"
   ]
  },
  {
   "cell_type": "code",
   "execution_count": 33,
   "metadata": {},
   "outputs": [],
   "source": [
    "ket_0_T = np.array([1,0])\n",
    "ket_1_T = np.array([0,1])\n",
    "\n",
    "ket_01_T =np.kron(ket_0_T,ket_1_T)\n",
    "\n",
    "ket_intial_T = (-1/np.sqrt(2))*np.array([1,-1,0,0])\n"
   ]
  },
  {
   "cell_type": "markdown",
   "metadata": {},
   "source": [
    "Incomming beam is in the x direction in out set up and set in the vertal polariztion \n",
    "\n",
    "$\\ket{x,V} = \\begin{pmatrix} 1 \\\\ 0 \\end{pmatrix} \\otimes \\begin{pmatrix} 0 \\\\ 1 \\end{pmatrix}$"
   ]
  },
  {
   "cell_type": "markdown",
   "metadata": {},
   "source": [
    "Incomming photon after Crystal (parametric down conversion) \n",
    "$\\ket{\\phi_x } $ \n",
    "\n",
    "Going though the pololarizer \n",
    "$\\hat P\\ket{\\phi_x} \\rightarrow \\frac{-1}{ \\sqrt{2}} (\\ket{H} -\\ket{V})$\n",
    "\n",
    "Applying $\\hat I \\otimes \\hat P$ as we are not changing the path but the polarization"
   ]
  },
  {
   "cell_type": "code",
   "execution_count": 40,
   "metadata": {},
   "outputs": [
    {
     "name": "stdout",
     "output_type": "stream",
     "text": [
      "[-0.5+0.j   0.5+0.j   0. +0.5j  0. -0.5j]\n"
     ]
    }
   ],
   "source": [
    "#H_polar = np.matmul(np.kron(I,P(-pi/4)),ket_01_T)\n",
    "\n",
    "ket_0 = np.matmul(np.kron(BS,I),ket_intial_T)\n",
    "ket_1 = np.matmul(np.kron(I,M),ket_0)\n",
    "ket_2 = np.matmul(W_4(pi/2,0),ket_1)\n",
    "ket_3 = np.matmul(np.kron(I,M),ket_2)\n",
    "ket_4 = np.matmul(np.kron(BS,I),ket_3)\n",
    "\n",
    "\n",
    "print(ket_3)\n"
   ]
  },
  {
   "cell_type": "markdown",
   "metadata": {},
   "source": [
    "Beamsplitter - creates our second Qubit which is path dependent and also opperates \n",
    "We get \n",
    "\n",
    "$\\ket{ \\phi_0} = \\frac{-1}{2}(\\ket{a}+ i\\ket{b})_x \\otimes ( \\ket{H} -\\ket{V})_y$"
   ]
  },
  {
   "cell_type": "code",
   "execution_count": 5,
   "metadata": {},
   "outputs": [],
   "source": [
    "phi_0_path = -0.5*(ket_0_T + 1j*ket_1_T)\n",
    "phi_0_polar =(ket_0_T - ket_1_T)\n",
    "phi_0 = np.kron(phi_0_path,phi_0_polar)"
   ]
  },
  {
   "cell_type": "code",
   "execution_count": 11,
   "metadata": {},
   "outputs": [],
   "source": [
    "#trying the matrix guess and returning results for every possible waveplate combonation\n",
    "def WavePlate_guess(guess):\n",
    "    theta_0 = 2*pi\n",
    "    theta_1 = pi/2\n",
    "    angle = [0,pi/2,pi]\n",
    "    M_tests = []\n",
    "    for theta_0 in angle:\n",
    "        for theta_1 in angle:\n",
    "            M_tests.append({\"theta_0\":pi_text(theta_0) ,\"theta_1\": pi_text(theta_1), \n",
    "                            \"matrix_GW\": np.matmul(guess,W_4(theta_0,theta_1))}) \n",
    "                            #\"matrix_WG\" :np.matmul(W_4(theta_0,theta_1),guess)}\n",
    "    return pd.DataFrame(M_tests) \n",
    "#WavePlate_guess(CNOT).iloc[:,3]\n"
   ]
  },
  {
   "cell_type": "code",
   "execution_count": 12,
   "metadata": {},
   "outputs": [],
   "source": [
    "#Targets\n",
    "\n",
    "targets = np.array([[1,0,0,0],[0,-1,0,0],[0,0,1,0],[0,0,0,-1]])\n"
   ]
  },
  {
   "cell_type": "markdown",
   "metadata": {},
   "source": [
    "we only apply the Beam splitter to the polarization"
   ]
  },
  {
   "cell_type": "code",
   "execution_count": null,
   "metadata": {},
   "outputs": [],
   "source": [
    "#phi_3 = np.matmul(I_otimes_BS,phi_2)\n",
    "#phi_3"
   ]
  }
 ],
 "metadata": {
  "kernelspec": {
   "display_name": "optics_env_2024",
   "language": "python",
   "name": "python3"
  },
  "language_info": {
   "codemirror_mode": {
    "name": "ipython",
    "version": 3
   },
   "file_extension": ".py",
   "mimetype": "text/x-python",
   "name": "python",
   "nbconvert_exporter": "python",
   "pygments_lexer": "ipython3",
   "version": "3.12.1"
  }
 },
 "nbformat": 4,
 "nbformat_minor": 2
}
